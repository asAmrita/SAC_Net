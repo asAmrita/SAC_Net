{
 "cells": [
  {
   "cell_type": "code",
   "execution_count": 23,
   "id": "cd540c27",
   "metadata": {},
   "outputs": [],
   "source": [
    "#!pip install torch==1.7.1+cu110 torchvision==0.8.2+cu110 torchaudio===0.7.2 -f https://download.pytorch.org/whl/torch_stable.html"
   ]
  },
  {
   "cell_type": "code",
   "execution_count": 1,
   "id": "768d5e04",
   "metadata": {},
   "outputs": [],
   "source": [
    "#!pip install torch-summary"
   ]
  },
  {
   "cell_type": "code",
   "execution_count": 26,
   "id": "4d8b339f",
   "metadata": {},
   "outputs": [],
   "source": [
    "import os\n",
    "import sys\n",
    "sys.path.append(\"10_pytorch_efficientdet/lib/\")"
   ]
  },
  {
   "cell_type": "code",
   "execution_count": 27,
   "id": "31b5a378",
   "metadata": {},
   "outputs": [],
   "source": [
    "#!conda install opencv -y\n",
    "\n"
   ]
  },
  {
   "cell_type": "code",
   "execution_count": 28,
   "id": "96d4239e",
   "metadata": {},
   "outputs": [],
   "source": [
    "from train_detector import Detector"
   ]
  },
  {
   "cell_type": "code",
   "execution_count": 29,
   "id": "4a9baf64",
   "metadata": {},
   "outputs": [],
   "source": [
    "gtf = Detector();"
   ]
  },
  {
   "cell_type": "code",
   "execution_count": 30,
   "id": "89b934ea",
   "metadata": {},
   "outputs": [],
   "source": [
    "root_dir = \"\";\n",
    "coco_dir = \"/home/amritasingh/3X3_5x5/coco/\";\n",
    "img_dir = \"\";\n",
    "set_dir = \"train2017\";"
   ]
  },
  {
   "cell_type": "code",
   "execution_count": 31,
   "id": "ee907423",
   "metadata": {},
   "outputs": [],
   "source": [
    "#gtf.set_train_dataset(root_dir, coco_dir, img_dir, set_dir, classes_list=['person', 'bicycle', 'car', 'motorcycle', 'airplane', 'bus', \n",
    " #          'train', 'truck', 'boat', 'traffic light',\n",
    "  #         'fire hydrant', 'street sign', 'stop sign', 'parking meter', 'bench', 'bird', 'cat', 'dog', 'horse', 'sheep',\n",
    "   #        'cow', 'elephant', 'bear', 'zebra', 'giraffe', 'hat', 'backpack', 'umbrella', 'shoe', 'eye glasses', 'handbag', 'tie',\n",
    "    #       'suitcase', 'frisbee', 'skis', 'snowboard', 'sports ball', 'kite', 'baseball bat', 'baseball glove',\n",
    "     #      'skateboard', 'surfboard', 'tennis racket', 'bottle', 'plate', 'wine glass', 'cup', 'fork', 'knife', 'spoon',\n",
    "      #     'bowl', 'banana', 'apple', 'sandwich', 'orange', 'broccoli', 'carrot', 'hot dog', 'pizza', 'donut',\n",
    "       #    'cake', 'chair', 'couch', 'potted plant', 'bed', 'mirror', 'dining table', 'window', 'desk', 'toilet', 'door', 'tv',\n",
    "        #   'laptop', 'mouse', 'remote', 'keyboard', 'cell phone', 'microwave', 'oven', 'toaster', 'sink',\n",
    "         #  'refrigerator', 'blender', 'book', 'clock', 'vase', 'scissors', 'teddy bear', 'hair drier',\n",
    "          # 'toothbrush'], batch_size=16, num_workers=16)"
   ]
  },
  {
   "cell_type": "code",
   "execution_count": 32,
   "id": "8033c5bc",
   "metadata": {},
   "outputs": [],
   "source": [
    "gtf.set_train_dataset(root_dir, coco_dir, img_dir, set_dir, classes_list=['person', 'bicycle', 'car', 'motorcycle', 'airplane', 'bus', 'train', 'truck', 'boat', 'traffic light',\n",
    "           'fire hydrant', '', 'stop sign', 'parking meter', 'bench', 'bird', 'cat', 'dog', 'horse', 'sheep',\n",
    "           'cow', 'elephant', 'bear', 'zebra', 'giraffe', '', 'backpack', 'umbrella', '', '', 'handbag', 'tie',\n",
    "           'suitcase', 'frisbee', 'skis', 'snowboard', 'sports ball', 'kite', 'baseball bat', 'baseball glove',\n",
    "           'skateboard', 'surfboard', 'tennis racket', 'bottle', '', 'wine glass', 'cup', 'fork', 'knife', 'spoon',\n",
    "           'bowl', 'banana', 'apple', 'sandwich', 'orange', 'broccoli', 'carrot', 'hot dog', 'pizza', 'donut',\n",
    "           'cake', 'chair', 'couch', 'potted plant', 'bed', '', 'dining table', '', '', 'toilet', '', 'tv',\n",
    "           'laptop', 'mouse', 'remote', 'keyboard', 'cell phone', 'microwave', 'oven', 'toaster', 'sink',\n",
    "           'refrigerator', '', 'book', 'clock', 'vase', 'scissors', 'teddy bear', 'hair drier',\n",
    "           'toothbrush'], batch_size=16, num_workers=16)"
   ]
  },
  {
   "cell_type": "code",
   "execution_count": 33,
   "id": "837d097b",
   "metadata": {},
   "outputs": [],
   "source": [
    "root_dir = \"\";\n",
    "coco_dir = \"/home/amritasingh/3X3_5x5/coco/\";\n",
    "img_dir = \"\";\n",
    "set_dir = \"val2017\";"
   ]
  },
  {
   "cell_type": "code",
   "execution_count": 34,
   "id": "587a977a",
   "metadata": {},
   "outputs": [],
   "source": [
    "#gtf.set_val_dataset(root_dir, coco_dir, img_dir, set_dir)"
   ]
  },
  {
   "cell_type": "code",
   "execution_count": 35,
   "id": "a2e82e96",
   "metadata": {},
   "outputs": [
    {
     "name": "stdout",
     "output_type": "stream",
     "text": [
      "cuda:0\n"
     ]
    }
   ],
   "source": [
    "import torch\n",
    "device = torch.device(\"cuda:0\" if torch.cuda.is_available() else \"cpu\")\n",
    "print(device)"
   ]
  },
  {
   "cell_type": "code",
   "execution_count": 36,
   "id": "5eaa9ee1",
   "metadata": {},
   "outputs": [],
   "source": [
    "\"efficientdet-d0.pth\"\n",
    "\"efficientdet-d1.pth\"\n",
    "\"efficientdet-d2.pth\"\n",
    "\"efficientdet-d3.pth\"\n",
    "\"efficientdet-d4.pth\"\n",
    "\"efficientdet-d5.pth\"\n",
    "\"efficientdet-d6.pth\"\n",
    "\"efficientdet-d7.pth\"\n",
    "\n",
    "gtf.set_model(model_name=\"efficientdet-d0.pth\", num_gpus=1, freeze_head=False)"
   ]
  },
  {
   "cell_type": "code",
   "execution_count": 37,
   "id": "41dd0fba",
   "metadata": {},
   "outputs": [],
   "source": [
    "gtf.set_hyperparams(optimizer=\"sgd\", lr= .00001, es_min_delta=0, es_patience=0)"
   ]
  },
  {
   "cell_type": "code",
   "execution_count": null,
   "id": "b4c04fbe",
   "metadata": {},
   "outputs": [
    {
     "name": "stdout",
     "output_type": "stream",
     "text": [
      "loading annotations into memory...\n",
      "Done (t=11.18s)\n",
      "creating index...\n",
      "index created!\n",
      "\n",
      "\n",
      "[Info] loaded weights: efficientdet-d0.pth, resuming checkpoint from step: 0\n",
      "\n",
      "\n",
      "================================================================================\n",
      "Layer (type:depth-idx)                                  Param #\n",
      "================================================================================\n",
      "├─Sequential: 1-1                                       --\n",
      "|    └─BiFPN: 2-1                                       --\n",
      "|    |    └─SeparableConvBlock: 3-1                     4,864\n",
      "|    |    └─SeparableConvBlock: 3-2                     4,864\n",
      "|    |    └─SeparableConvBlock: 3-3                     4,864\n",
      "|    |    └─SeparableConvBlock: 3-4                     4,864\n",
      "|    |    └─SeparableConvBlock: 3-5                     4,864\n",
      "|    |    └─SeparableConvBlock: 3-6                     4,864\n",
      "|    |    └─SeparableConvBlock: 3-7                     4,864\n",
      "|    |    └─SeparableConvBlock: 3-8                     4,864\n",
      "|    |    └─Upsample: 3-9                               --\n",
      "|    |    └─Upsample: 3-10                              --\n",
      "|    |    └─Upsample: 3-11                              --\n",
      "|    |    └─Upsample: 3-12                              --\n",
      "|    |    └─MaxPool2dStaticSamePadding: 3-13            --\n",
      "|    |    └─MaxPool2dStaticSamePadding: 3-14            --\n",
      "|    |    └─MaxPool2dStaticSamePadding: 3-15            --\n",
      "|    |    └─MaxPool2dStaticSamePadding: 3-16            --\n",
      "|    |    └─MemoryEfficientSwish: 3-17                  --\n",
      "|    |    └─Sequential: 3-18                            20,672\n",
      "|    |    └─Sequential: 3-19                            7,360\n",
      "|    |    └─Sequential: 3-20                            2,752\n",
      "|    |    └─Sequential: 3-21                            20,672\n",
      "|    |    └─Sequential: 3-22                            --\n",
      "|    |    └─Sequential: 3-23                            7,360\n",
      "|    |    └─Sequential: 3-24                            20,672\n",
      "|    |    └─ReLU: 3-25                                  --\n",
      "|    |    └─ReLU: 3-26                                  --\n",
      "|    |    └─ReLU: 3-27                                  --\n",
      "|    |    └─ReLU: 3-28                                  --\n",
      "|    |    └─ReLU: 3-29                                  --\n",
      "|    |    └─ReLU: 3-30                                  --\n",
      "|    |    └─ReLU: 3-31                                  --\n",
      "|    |    └─ReLU: 3-32                                  --\n",
      "|    └─BiFPN: 2-2                                       --\n",
      "|    |    └─SeparableConvBlock: 3-33                    4,864\n",
      "|    |    └─SeparableConvBlock: 3-34                    4,864\n",
      "|    |    └─SeparableConvBlock: 3-35                    4,864\n",
      "|    |    └─SeparableConvBlock: 3-36                    4,864\n",
      "|    |    └─SeparableConvBlock: 3-37                    4,864\n",
      "|    |    └─SeparableConvBlock: 3-38                    4,864\n",
      "|    |    └─SeparableConvBlock: 3-39                    4,864\n",
      "|    |    └─SeparableConvBlock: 3-40                    4,864\n",
      "|    |    └─Upsample: 3-41                              --\n",
      "|    |    └─Upsample: 3-42                              --\n",
      "|    |    └─Upsample: 3-43                              --\n",
      "|    |    └─Upsample: 3-44                              --\n",
      "|    |    └─MaxPool2dStaticSamePadding: 3-45            --\n",
      "|    |    └─MaxPool2dStaticSamePadding: 3-46            --\n",
      "|    |    └─MaxPool2dStaticSamePadding: 3-47            --\n",
      "|    |    └─MaxPool2dStaticSamePadding: 3-48            --\n",
      "|    |    └─MemoryEfficientSwish: 3-49                  --\n",
      "|    |    └─ReLU: 3-50                                  --\n",
      "|    |    └─ReLU: 3-51                                  --\n",
      "|    |    └─ReLU: 3-52                                  --\n",
      "|    |    └─ReLU: 3-53                                  --\n",
      "|    |    └─ReLU: 3-54                                  --\n",
      "|    |    └─ReLU: 3-55                                  --\n",
      "|    |    └─ReLU: 3-56                                  --\n",
      "|    |    └─ReLU: 3-57                                  --\n",
      "|    └─BiFPN: 2-3                                       --\n",
      "|    |    └─SeparableConvBlock: 3-58                    4,864\n",
      "|    |    └─SeparableConvBlock: 3-59                    4,864\n",
      "|    |    └─SeparableConvBlock: 3-60                    4,864\n",
      "|    |    └─SeparableConvBlock: 3-61                    4,864\n",
      "|    |    └─SeparableConvBlock: 3-62                    4,864\n",
      "|    |    └─SeparableConvBlock: 3-63                    4,864\n",
      "|    |    └─SeparableConvBlock: 3-64                    4,864\n",
      "|    |    └─SeparableConvBlock: 3-65                    4,864\n",
      "|    |    └─Upsample: 3-66                              --\n",
      "|    |    └─Upsample: 3-67                              --\n",
      "|    |    └─Upsample: 3-68                              --\n",
      "|    |    └─Upsample: 3-69                              --\n",
      "|    |    └─MaxPool2dStaticSamePadding: 3-70            --\n",
      "|    |    └─MaxPool2dStaticSamePadding: 3-71            --\n",
      "|    |    └─MaxPool2dStaticSamePadding: 3-72            --\n",
      "|    |    └─MaxPool2dStaticSamePadding: 3-73            --\n",
      "|    |    └─MemoryEfficientSwish: 3-74                  --\n",
      "|    |    └─ReLU: 3-75                                  --\n",
      "|    |    └─ReLU: 3-76                                  --\n",
      "|    |    └─ReLU: 3-77                                  --\n",
      "|    |    └─ReLU: 3-78                                  --\n",
      "|    |    └─ReLU: 3-79                                  --\n",
      "|    |    └─ReLU: 3-80                                  --\n",
      "|    |    └─ReLU: 3-81                                  --\n",
      "|    |    └─ReLU: 3-82                                  --\n",
      "├─Regressor: 1-2                                        --\n",
      "|    └─ModuleList: 2-4                                  --\n",
      "|    |    └─SeparableConvBlock: 3-83                    4,736\n",
      "|    |    └─SeparableConvBlock: 3-84                    4,736\n",
      "|    |    └─SeparableConvBlock: 3-85                    4,736\n",
      "|    └─ModuleList: 2-5                                  --\n",
      "|    |    └─ModuleList: 3-86                            384\n",
      "|    |    └─ModuleList: 3-87                            384\n",
      "|    |    └─ModuleList: 3-88                            384\n",
      "|    |    └─ModuleList: 3-89                            384\n",
      "|    |    └─ModuleList: 3-90                            384\n",
      "|    └─SeparableConvBlock: 2-6                          --\n",
      "|    |    └─Conv2dStaticSamePadding: 3-91               576\n",
      "|    |    └─Conv2dStaticSamePadding: 3-92               2,340\n",
      "|    └─MemoryEfficientSwish: 2-7                        --\n",
      "├─Classifier: 1-3                                       --\n",
      "|    └─ModuleList: 2-8                                  --\n",
      "|    |    └─SeparableConvBlock: 3-93                    4,736\n",
      "|    |    └─SeparableConvBlock: 3-94                    4,736\n",
      "|    |    └─SeparableConvBlock: 3-95                    4,736\n",
      "|    └─ModuleList: 2-9                                  --\n",
      "|    |    └─ModuleList: 3-96                            384\n",
      "|    |    └─ModuleList: 3-97                            384\n",
      "|    |    └─ModuleList: 3-98                            384\n",
      "|    |    └─ModuleList: 3-99                            384\n",
      "|    |    └─ModuleList: 3-100                           384\n",
      "|    └─SeparableConvBlock: 2-10                         --\n",
      "|    |    └─Conv2dStaticSamePadding: 3-101              576\n",
      "|    |    └─Conv2dStaticSamePadding: 3-102              52,650\n",
      "|    └─MemoryEfficientSwish: 2-11                       --\n",
      "├─Anchors: 1-4                                          --\n",
      "├─EfficientNet: 1-5                                     --\n",
      "|    └─EfficientNet: 2-12                               --\n",
      "|    |    └─Conv2dStaticSamePadding: 3-103              864\n",
      "|    |    └─BatchNorm2d: 3-104                          64\n",
      "|    |    └─ModuleList: 3-105                           11,446,780\n",
      "|    |    └─MemoryEfficientSwish: 3-106                 --\n",
      "================================================================================\n",
      "Total params: 11,732,330\n",
      "Trainable params: 11,732,330\n",
      "Non-trainable params: 0\n",
      "================================================================================\n",
      "================================================================================\n",
      "Layer (type:depth-idx)                                  Param #\n",
      "================================================================================\n",
      "├─Sequential: 1-1                                       --\n",
      "|    └─BiFPN: 2-1                                       --\n",
      "|    |    └─SeparableConvBlock: 3-1                     4,864\n",
      "|    |    └─SeparableConvBlock: 3-2                     4,864\n",
      "|    |    └─SeparableConvBlock: 3-3                     4,864\n",
      "|    |    └─SeparableConvBlock: 3-4                     4,864\n",
      "|    |    └─SeparableConvBlock: 3-5                     4,864\n",
      "|    |    └─SeparableConvBlock: 3-6                     4,864\n",
      "|    |    └─SeparableConvBlock: 3-7                     4,864\n",
      "|    |    └─SeparableConvBlock: 3-8                     4,864\n",
      "|    |    └─Upsample: 3-9                               --\n",
      "|    |    └─Upsample: 3-10                              --\n",
      "|    |    └─Upsample: 3-11                              --\n",
      "|    |    └─Upsample: 3-12                              --\n",
      "|    |    └─MaxPool2dStaticSamePadding: 3-13            --\n",
      "|    |    └─MaxPool2dStaticSamePadding: 3-14            --\n",
      "|    |    └─MaxPool2dStaticSamePadding: 3-15            --\n",
      "|    |    └─MaxPool2dStaticSamePadding: 3-16            --\n",
      "|    |    └─MemoryEfficientSwish: 3-17                  --\n",
      "|    |    └─Sequential: 3-18                            20,672\n",
      "|    |    └─Sequential: 3-19                            7,360\n",
      "|    |    └─Sequential: 3-20                            2,752\n",
      "|    |    └─Sequential: 3-21                            20,672\n",
      "|    |    └─Sequential: 3-22                            --\n",
      "|    |    └─Sequential: 3-23                            7,360\n",
      "|    |    └─Sequential: 3-24                            20,672\n",
      "|    |    └─ReLU: 3-25                                  --\n",
      "|    |    └─ReLU: 3-26                                  --\n",
      "|    |    └─ReLU: 3-27                                  --\n",
      "|    |    └─ReLU: 3-28                                  --\n",
      "|    |    └─ReLU: 3-29                                  --\n",
      "|    |    └─ReLU: 3-30                                  --\n",
      "|    |    └─ReLU: 3-31                                  --\n",
      "|    |    └─ReLU: 3-32                                  --\n",
      "|    └─BiFPN: 2-2                                       --\n",
      "|    |    └─SeparableConvBlock: 3-33                    4,864\n",
      "|    |    └─SeparableConvBlock: 3-34                    4,864\n",
      "|    |    └─SeparableConvBlock: 3-35                    4,864\n",
      "|    |    └─SeparableConvBlock: 3-36                    4,864\n",
      "|    |    └─SeparableConvBlock: 3-37                    4,864\n",
      "|    |    └─SeparableConvBlock: 3-38                    4,864\n",
      "|    |    └─SeparableConvBlock: 3-39                    4,864\n",
      "|    |    └─SeparableConvBlock: 3-40                    4,864\n",
      "|    |    └─Upsample: 3-41                              --\n",
      "|    |    └─Upsample: 3-42                              --\n",
      "|    |    └─Upsample: 3-43                              --\n",
      "|    |    └─Upsample: 3-44                              --\n",
      "|    |    └─MaxPool2dStaticSamePadding: 3-45            --\n",
      "|    |    └─MaxPool2dStaticSamePadding: 3-46            --\n",
      "|    |    └─MaxPool2dStaticSamePadding: 3-47            --\n",
      "|    |    └─MaxPool2dStaticSamePadding: 3-48            --\n",
      "|    |    └─MemoryEfficientSwish: 3-49                  --\n",
      "|    |    └─ReLU: 3-50                                  --\n",
      "|    |    └─ReLU: 3-51                                  --\n",
      "|    |    └─ReLU: 3-52                                  --\n",
      "|    |    └─ReLU: 3-53                                  --\n",
      "|    |    └─ReLU: 3-54                                  --\n",
      "|    |    └─ReLU: 3-55                                  --\n",
      "|    |    └─ReLU: 3-56                                  --\n",
      "|    |    └─ReLU: 3-57                                  --\n",
      "|    └─BiFPN: 2-3                                       --\n",
      "|    |    └─SeparableConvBlock: 3-58                    4,864\n",
      "|    |    └─SeparableConvBlock: 3-59                    4,864\n",
      "|    |    └─SeparableConvBlock: 3-60                    4,864\n",
      "|    |    └─SeparableConvBlock: 3-61                    4,864\n",
      "|    |    └─SeparableConvBlock: 3-62                    4,864\n",
      "|    |    └─SeparableConvBlock: 3-63                    4,864\n",
      "|    |    └─SeparableConvBlock: 3-64                    4,864\n",
      "|    |    └─SeparableConvBlock: 3-65                    4,864\n",
      "|    |    └─Upsample: 3-66                              --\n",
      "|    |    └─Upsample: 3-67                              --\n",
      "|    |    └─Upsample: 3-68                              --\n",
      "|    |    └─Upsample: 3-69                              --\n",
      "|    |    └─MaxPool2dStaticSamePadding: 3-70            --\n",
      "|    |    └─MaxPool2dStaticSamePadding: 3-71            --\n",
      "|    |    └─MaxPool2dStaticSamePadding: 3-72            --\n",
      "|    |    └─MaxPool2dStaticSamePadding: 3-73            --\n",
      "|    |    └─MemoryEfficientSwish: 3-74                  --\n",
      "|    |    └─ReLU: 3-75                                  --\n",
      "|    |    └─ReLU: 3-76                                  --\n",
      "|    |    └─ReLU: 3-77                                  --\n",
      "|    |    └─ReLU: 3-78                                  --\n",
      "|    |    └─ReLU: 3-79                                  --\n",
      "|    |    └─ReLU: 3-80                                  --\n",
      "|    |    └─ReLU: 3-81                                  --\n",
      "|    |    └─ReLU: 3-82                                  --\n",
      "├─Regressor: 1-2                                        --\n",
      "|    └─ModuleList: 2-4                                  --\n",
      "|    |    └─SeparableConvBlock: 3-83                    4,736\n",
      "|    |    └─SeparableConvBlock: 3-84                    4,736\n",
      "|    |    └─SeparableConvBlock: 3-85                    4,736\n",
      "|    └─ModuleList: 2-5                                  --\n",
      "|    |    └─ModuleList: 3-86                            384\n",
      "|    |    └─ModuleList: 3-87                            384\n",
      "|    |    └─ModuleList: 3-88                            384\n",
      "|    |    └─ModuleList: 3-89                            384\n",
      "|    |    └─ModuleList: 3-90                            384\n",
      "|    └─SeparableConvBlock: 2-6                          --\n",
      "|    |    └─Conv2dStaticSamePadding: 3-91               576\n",
      "|    |    └─Conv2dStaticSamePadding: 3-92               2,340\n",
      "|    └─MemoryEfficientSwish: 2-7                        --\n",
      "├─Classifier: 1-3                                       --\n",
      "|    └─ModuleList: 2-8                                  --\n",
      "|    |    └─SeparableConvBlock: 3-93                    4,736\n",
      "|    |    └─SeparableConvBlock: 3-94                    4,736\n",
      "|    |    └─SeparableConvBlock: 3-95                    4,736\n",
      "|    └─ModuleList: 2-9                                  --\n",
      "|    |    └─ModuleList: 3-96                            384\n",
      "|    |    └─ModuleList: 3-97                            384\n",
      "|    |    └─ModuleList: 3-98                            384\n",
      "|    |    └─ModuleList: 3-99                            384\n",
      "|    |    └─ModuleList: 3-100                           384\n",
      "|    └─SeparableConvBlock: 2-10                         --\n",
      "|    |    └─Conv2dStaticSamePadding: 3-101              576\n",
      "|    |    └─Conv2dStaticSamePadding: 3-102              52,650\n",
      "|    └─MemoryEfficientSwish: 2-11                       --\n",
      "├─Anchors: 1-4                                          --\n",
      "├─EfficientNet: 1-5                                     --\n",
      "|    └─EfficientNet: 2-12                               --\n",
      "|    |    └─Conv2dStaticSamePadding: 3-103              864\n",
      "|    |    └─BatchNorm2d: 3-104                          64\n",
      "|    |    └─ModuleList: 3-105                           11,446,780\n",
      "|    |    └─MemoryEfficientSwish: 3-106                 --\n",
      "================================================================================\n",
      "Total params: 11,732,330\n",
      "Trainable params: 11,732,330\n",
      "Non-trainable params: 0\n",
      "================================================================================\n",
      "\n",
      "\n"
     ]
    },
    {
     "name": "stderr",
     "output_type": "stream",
     "text": [
      "Step: 7391. Epoch: 0/2. Iteration: 7392/7392. Cls loss: 0.26956. Reg loss: 0.09255. Total loss: 0.36212: 100%|██████████| 7392/7392 [1:39:16<00:00,  1.24it/s]\n",
      "Step: 9693. Epoch: 1/2. Iteration: 2302/7392. Cls loss: 0.24572. Reg loss: 0.08805. Total loss: 0.33377:  31%|███       | 2302/7392 [30:46<1:08:26,  1.24it/s]"
     ]
    }
   ],
   "source": [
    "gtf.train(num_epochs=2, val_interval=1, save_interval=1)"
   ]
  },
  {
   "cell_type": "code",
   "execution_count": 15,
   "id": "9062f68e",
   "metadata": {},
   "outputs": [],
   "source": [
    "#gtf.Model(model_name=\"efficientnet-b0\");"
   ]
  },
  {
   "cell_type": "code",
   "execution_count": 16,
   "id": "4c57287e",
   "metadata": {},
   "outputs": [],
   "source": [
    "#!wget https://github.com/zylo117/Yet-Another-Efficient-Pytorch/releases/download/1.0/efficientdet-d0.pth"
   ]
  },
  {
   "cell_type": "code",
   "execution_count": 3,
   "id": "7cd25315-2ca0-42f6-9ac9-87f8a9986dbb",
   "metadata": {},
   "outputs": [],
   "source": [
    "#pip install fiftyone\n"
   ]
  },
  {
   "cell_type": "code",
   "execution_count": 2,
   "id": "d7f4a187-3e38-406d-beb1-e108adf05024",
   "metadata": {},
   "outputs": [],
   "source": [
    "#import fiftyone"
   ]
  },
  {
   "cell_type": "code",
   "execution_count": 2,
   "id": "da507f95-c5f0-4260-8610-0cf4cb552152",
   "metadata": {},
   "outputs": [],
   "source": [
    "#dataset = fiftyone.zoo.load_zoo_dataset(\"coco-2017\")\n"
   ]
  },
  {
   "cell_type": "code",
   "execution_count": 13,
   "id": "98fbadfe",
   "metadata": {},
   "outputs": [],
   "source": [
    "from torchsummary import summary"
   ]
  },
  {
   "cell_type": "code",
   "execution_count": 14,
   "id": "0d2b57cc",
   "metadata": {},
   "outputs": [],
   "source": [
    "%load_ext tensorboard\n"
   ]
  },
  {
   "cell_type": "code",
   "execution_count": 15,
   "id": "f1498857",
   "metadata": {},
   "outputs": [
    {
     "data": {
      "text/html": [
       "\n",
       "      <iframe id=\"tensorboard-frame-eb822b0e07af6784\" width=\"100%\" height=\"800\" frameborder=\"0\">\n",
       "      </iframe>\n",
       "      <script>\n",
       "        (function() {\n",
       "          const frame = document.getElementById(\"tensorboard-frame-eb822b0e07af6784\");\n",
       "          const url = new URL(\"/\", window.location);\n",
       "          const port = 8006;\n",
       "          if (port) {\n",
       "            url.port = port;\n",
       "          }\n",
       "          frame.src = url;\n",
       "        })();\n",
       "      </script>\n",
       "    "
      ],
      "text/plain": [
       "<IPython.core.display.HTML object>"
      ]
     },
     "metadata": {},
     "output_type": "display_data"
    }
   ],
   "source": [
    "tensorboard --logdir=logs  --port=8006\n"
   ]
  },
  {
   "cell_type": "code",
   "execution_count": 1,
   "id": "891c38cb",
   "metadata": {},
   "outputs": [],
   "source": [
    "#!python /home/amritasingh/3X3_5x5/Monk_Object_Detection/10_pytorch_efficientdet/lib/coco_eval.py -p /coco"
   ]
  },
  {
   "cell_type": "code",
   "execution_count": null,
   "id": "82dcc65a",
   "metadata": {},
   "outputs": [],
   "source": []
  }
 ],
 "metadata": {
  "kernelspec": {
   "display_name": "Python 3 (ipykernel)",
   "language": "python",
   "name": "python3"
  },
  "language_info": {
   "codemirror_mode": {
    "name": "ipython",
    "version": 3
   },
   "file_extension": ".py",
   "mimetype": "text/x-python",
   "name": "python",
   "nbconvert_exporter": "python",
   "pygments_lexer": "ipython3",
   "version": "3.9.17"
  }
 },
 "nbformat": 4,
 "nbformat_minor": 5
}
