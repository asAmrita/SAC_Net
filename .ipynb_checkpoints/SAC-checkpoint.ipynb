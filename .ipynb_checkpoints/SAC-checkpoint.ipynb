{
 "cells": [
  {
   "cell_type": "code",
   "execution_count": 1,
   "id": "d8b6073d",
   "metadata": {},
   "outputs": [],
   "source": [
    "#! cd Monk_Object_Detection/10_pytorch_efficientdet/installation && cat requirements_colab.txt | xargs -n 1 -L 1 pip install\n"
   ]
  },
  {
   "cell_type": "code",
   "execution_count": null,
   "id": "916f7aeb",
   "metadata": {},
   "outputs": [],
   "source": [
    "#!pip install torch==1.7.1+cu110 torchvision==0.8.2+cu110 torchaudio===0.7.2 -f https://download.pytorch.org/whl/torch_stable.html"
   ]
  },
  {
   "cell_type": "code",
   "execution_count": null,
   "id": "64cbd8d8",
   "metadata": {},
   "outputs": [],
   "source": [
    "#!pip install torch-summary"
   ]
  },
  {
   "cell_type": "code",
   "execution_count": 1,
   "id": "d0df9fbc",
   "metadata": {},
   "outputs": [],
   "source": [
    "import os\n",
    "import sys\n",
    "sys.path.append(\"Monk_Object_Detection/10_pytorch_efficientdet/lib/\")"
   ]
  },
  {
   "cell_type": "code",
   "execution_count": 2,
   "id": "96d4239e",
   "metadata": {},
   "outputs": [
    {
     "name": "stderr",
     "output_type": "stream",
     "text": [
      "/home/amritasingh/anaconda3/envs/python39/lib/python3.9/site-packages/tqdm/auto.py:21: TqdmWarning: IProgress not found. Please update jupyter and ipywidgets. See https://ipywidgets.readthedocs.io/en/stable/user_install.html\n",
      "  from .autonotebook import tqdm as notebook_tqdm\n"
     ]
    }
   ],
   "source": [
    "from train_detector import Detector"
   ]
  },
  {
   "cell_type": "code",
   "execution_count": 3,
   "id": "4a9baf64",
   "metadata": {},
   "outputs": [],
   "source": [
    "gtf = Detector();"
   ]
  },
  {
   "cell_type": "code",
   "execution_count": 4,
   "id": "89b934ea",
   "metadata": {},
   "outputs": [],
   "source": [
    "root_dir = \"\";\n",
    "coco_dir = \"/home/amritasingh/Amrita_Project/3X3_5x5/coco/\";\n",
    "img_dir = \"\";\n",
    "set_dir = \"train2017\";"
   ]
  },
  {
   "cell_type": "code",
   "execution_count": 5,
   "id": "ee907423",
   "metadata": {},
   "outputs": [],
   "source": [
    "#gtf.set_train_dataset(root_dir, coco_dir, img_dir, set_dir, classes_list=['person', 'bicycle', 'car', 'motorcycle', 'airplane', 'bus', \n",
    " #          'train', 'truck', 'boat', 'traffic light',\n",
    "  #         'fire hydrant', 'street sign', 'stop sign', 'parking meter', 'bench', 'bird', 'cat', 'dog', 'horse', 'sheep',\n",
    "   #        'cow', 'elephant', 'bear', 'zebra', 'giraffe', 'hat', 'backpack', 'umbrella', 'shoe', 'eye glasses', 'handbag', 'tie',\n",
    "    #       'suitcase', 'frisbee', 'skis', 'snowboard', 'sports ball', 'kite', 'baseball bat', 'baseball glove',\n",
    "     #      'skateboard', 'surfboard', 'tennis racket', 'bottle', 'plate', 'wine glass', 'cup', 'fork', 'knife', 'spoon',\n",
    "      #     'bowl', 'banana', 'apple', 'sandwich', 'orange', 'broccoli', 'carrot', 'hot dog', 'pizza', 'donut',\n",
    "       #    'cake', 'chair', 'couch', 'potted plant', 'bed', 'mirror', 'dining table', 'window', 'desk', 'toilet', 'door', 'tv',\n",
    "        #   'laptop', 'mouse', 'remote', 'keyboard', 'cell phone', 'microwave', 'oven', 'toaster', 'sink',\n",
    "         #  'refrigerator', 'blender', 'book', 'clock', 'vase', 'scissors', 'teddy bear', 'hair drier',\n",
    "          # 'toothbrush'], batch_size=16, num_workers=16)"
   ]
  },
  {
   "cell_type": "code",
   "execution_count": 8,
   "id": "8033c5bc",
   "metadata": {},
   "outputs": [],
   "source": [
    "gtf.set_train_dataset(root_dir, coco_dir, img_dir, set_dir, classes_list=['person', 'bicycle', 'car', 'motorcycle', 'airplane', 'bus', 'train', 'truck', 'boat', 'traffic light',\n",
    "           'fire hydrant', '', 'stop sign', 'parking meter', 'bench', 'bird', 'cat', 'dog', 'horse', 'sheep',\n",
    "           'cow', 'elephant', 'bear', 'zebra', 'giraffe', '', 'backpack', 'umbrella', '', '', 'handbag', 'tie',\n",
    "           'suitcase', 'frisbee', 'skis', 'snowboard', 'sports ball', 'kite', 'baseball bat', 'baseball glove',\n",
    "           'skateboard', 'surfboard', 'tennis racket', 'bottle', '', 'wine glass', 'cup', 'fork', 'knife', 'spoon',\n",
    "           'bowl', 'banana', 'apple', 'sandwich', 'orange', 'broccoli', 'carrot', 'hot dog', 'pizza', 'donut',\n",
    "           'cake', 'chair', 'couch', 'potted plant', 'bed', '', 'dining table', '', '', 'toilet', '', 'tv',\n",
    "           'laptop', 'mouse', 'remote', 'keyboard', 'cell phone', 'microwave', 'oven', 'toaster', 'sink',\n",
    "           'refrigerator', '', 'book', 'clock', 'vase', 'scissors', 'teddy bear', 'hair drier',\n",
    "           'toothbrush'], batch_size=16, num_workers=16)"
   ]
  },
  {
   "cell_type": "code",
   "execution_count": 9,
   "id": "837d097b",
   "metadata": {},
   "outputs": [],
   "source": [
    "#root_dir = \"\";\n",
    "#coco_dir = \"/home/amritasingh/Amrita_Project/3X3_5x5/coco/\";\n",
    "#img_dir = \"\";\n",
    "#set_dir = \"val2017\";"
   ]
  },
  {
   "cell_type": "code",
   "execution_count": 10,
   "id": "587a977a",
   "metadata": {},
   "outputs": [],
   "source": [
    "#gtf.set_val_dataset(root_dir, coco_dir, img_dir, set_dir)"
   ]
  },
  {
   "cell_type": "code",
   "execution_count": 6,
   "id": "a2e82e96",
   "metadata": {},
   "outputs": [
    {
     "name": "stdout",
     "output_type": "stream",
     "text": [
      "cuda:0\n"
     ]
    }
   ],
   "source": [
    "import torch\n",
    "device = torch.device(\"cuda:0\" if torch.cuda.is_available() else \"cpu\")\n",
    "print(device)"
   ]
  },
  {
   "cell_type": "code",
   "execution_count": 7,
   "id": "5eaa9ee1",
   "metadata": {},
   "outputs": [],
   "source": [
    "\"efficientdet-d0.pth\"\n",
    "\"efficientdet-d1.pth\"\n",
    "\"efficientdet-d2.pth\"\n",
    "\"efficientdet-d3.pth\"\n",
    "\"efficientdet-d4.pth\"\n",
    "\"efficientdet-d5.pth\"\n",
    "\"efficientdet-d6.pth\"\n",
    "\"efficientdet-d7.pth\"\n",
    "\n",
    "gtf.set_model(model_name=\"efficientdet-d0.pth\", num_gpus=1, freeze_head=False)"
   ]
  },
  {
   "cell_type": "code",
   "execution_count": 8,
   "id": "41dd0fba",
   "metadata": {},
   "outputs": [],
   "source": [
    "gtf.set_hyperparams(optimizer=\"sgd\", lr= .00001, es_min_delta=0, es_patience=0)"
   ]
  },
  {
   "cell_type": "code",
   "execution_count": 9,
   "id": "b4c04fbe",
   "metadata": {
    "scrolled": false
   },
   "outputs": [
    {
     "name": "stdout",
     "output_type": "stream",
     "text": [
      "loading annotations into memory...\n",
      "Done (t=11.00s)\n",
      "creating index...\n",
      "index created!\n",
      "\n",
      "\n",
      "[Info] loaded weights: efficientdet-d0.pth, resuming checkpoint from step: 0\n",
      "\n",
      "\n",
      "================================================================================\n",
      "Layer (type:depth-idx)                                  Param #\n",
      "================================================================================\n",
      "├─Sequential: 1-1                                       --\n",
      "|    └─BiFPN: 2-1                                       --\n",
      "|    |    └─SeparableConvBlock: 3-1                     4,864\n",
      "|    |    └─SeparableConvBlock: 3-2                     4,864\n",
      "|    |    └─SeparableConvBlock: 3-3                     4,864\n",
      "|    |    └─SeparableConvBlock: 3-4                     4,864\n",
      "|    |    └─SeparableConvBlock: 3-5                     4,864\n",
      "|    |    └─SeparableConvBlock: 3-6                     4,864\n",
      "|    |    └─SeparableConvBlock: 3-7                     4,864\n",
      "|    |    └─SeparableConvBlock: 3-8                     4,864\n",
      "|    |    └─Upsample: 3-9                               --\n",
      "|    |    └─Upsample: 3-10                              --\n",
      "|    |    └─Upsample: 3-11                              --\n",
      "|    |    └─Upsample: 3-12                              --\n",
      "|    |    └─MaxPool2dStaticSamePadding: 3-13            --\n",
      "|    |    └─MaxPool2dStaticSamePadding: 3-14            --\n",
      "|    |    └─MaxPool2dStaticSamePadding: 3-15            --\n",
      "|    |    └─MaxPool2dStaticSamePadding: 3-16            --\n",
      "|    |    └─MemoryEfficientSwish: 3-17                  --\n",
      "|    |    └─Sequential: 3-18                            20,672\n",
      "|    |    └─Sequential: 3-19                            7,360\n",
      "|    |    └─Sequential: 3-20                            2,752\n",
      "|    |    └─Sequential: 3-21                            20,672\n",
      "|    |    └─Sequential: 3-22                            --\n",
      "|    |    └─Sequential: 3-23                            7,360\n",
      "|    |    └─Sequential: 3-24                            20,672\n",
      "|    |    └─ReLU: 3-25                                  --\n",
      "|    |    └─ReLU: 3-26                                  --\n",
      "|    |    └─ReLU: 3-27                                  --\n",
      "|    |    └─ReLU: 3-28                                  --\n",
      "|    |    └─ReLU: 3-29                                  --\n",
      "|    |    └─ReLU: 3-30                                  --\n",
      "|    |    └─ReLU: 3-31                                  --\n",
      "|    |    └─ReLU: 3-32                                  --\n",
      "|    └─BiFPN: 2-2                                       --\n",
      "|    |    └─SeparableConvBlock: 3-33                    4,864\n",
      "|    |    └─SeparableConvBlock: 3-34                    4,864\n",
      "|    |    └─SeparableConvBlock: 3-35                    4,864\n",
      "|    |    └─SeparableConvBlock: 3-36                    4,864\n",
      "|    |    └─SeparableConvBlock: 3-37                    4,864\n",
      "|    |    └─SeparableConvBlock: 3-38                    4,864\n",
      "|    |    └─SeparableConvBlock: 3-39                    4,864\n",
      "|    |    └─SeparableConvBlock: 3-40                    4,864\n",
      "|    |    └─Upsample: 3-41                              --\n",
      "|    |    └─Upsample: 3-42                              --\n",
      "|    |    └─Upsample: 3-43                              --\n",
      "|    |    └─Upsample: 3-44                              --\n",
      "|    |    └─MaxPool2dStaticSamePadding: 3-45            --\n",
      "|    |    └─MaxPool2dStaticSamePadding: 3-46            --\n",
      "|    |    └─MaxPool2dStaticSamePadding: 3-47            --\n",
      "|    |    └─MaxPool2dStaticSamePadding: 3-48            --\n",
      "|    |    └─MemoryEfficientSwish: 3-49                  --\n",
      "|    |    └─ReLU: 3-50                                  --\n",
      "|    |    └─ReLU: 3-51                                  --\n",
      "|    |    └─ReLU: 3-52                                  --\n",
      "|    |    └─ReLU: 3-53                                  --\n",
      "|    |    └─ReLU: 3-54                                  --\n",
      "|    |    └─ReLU: 3-55                                  --\n",
      "|    |    └─ReLU: 3-56                                  --\n",
      "|    |    └─ReLU: 3-57                                  --\n",
      "|    └─BiFPN: 2-3                                       --\n",
      "|    |    └─SeparableConvBlock: 3-58                    4,864\n",
      "|    |    └─SeparableConvBlock: 3-59                    4,864\n",
      "|    |    └─SeparableConvBlock: 3-60                    4,864\n",
      "|    |    └─SeparableConvBlock: 3-61                    4,864\n",
      "|    |    └─SeparableConvBlock: 3-62                    4,864\n",
      "|    |    └─SeparableConvBlock: 3-63                    4,864\n",
      "|    |    └─SeparableConvBlock: 3-64                    4,864\n",
      "|    |    └─SeparableConvBlock: 3-65                    4,864\n",
      "|    |    └─Upsample: 3-66                              --\n",
      "|    |    └─Upsample: 3-67                              --\n",
      "|    |    └─Upsample: 3-68                              --\n",
      "|    |    └─Upsample: 3-69                              --\n",
      "|    |    └─MaxPool2dStaticSamePadding: 3-70            --\n",
      "|    |    └─MaxPool2dStaticSamePadding: 3-71            --\n",
      "|    |    └─MaxPool2dStaticSamePadding: 3-72            --\n",
      "|    |    └─MaxPool2dStaticSamePadding: 3-73            --\n",
      "|    |    └─MemoryEfficientSwish: 3-74                  --\n",
      "|    |    └─ReLU: 3-75                                  --\n",
      "|    |    └─ReLU: 3-76                                  --\n",
      "|    |    └─ReLU: 3-77                                  --\n",
      "|    |    └─ReLU: 3-78                                  --\n",
      "|    |    └─ReLU: 3-79                                  --\n",
      "|    |    └─ReLU: 3-80                                  --\n",
      "|    |    └─ReLU: 3-81                                  --\n",
      "|    |    └─ReLU: 3-82                                  --\n",
      "├─Regressor: 1-2                                        --\n",
      "|    └─ModuleList: 2-4                                  --\n",
      "|    |    └─SeparableConvBlock: 3-83                    4,736\n",
      "|    |    └─SeparableConvBlock: 3-84                    4,736\n",
      "|    |    └─SeparableConvBlock: 3-85                    4,736\n",
      "|    └─ModuleList: 2-5                                  --\n",
      "|    |    └─ModuleList: 3-86                            384\n",
      "|    |    └─ModuleList: 3-87                            384\n",
      "|    |    └─ModuleList: 3-88                            384\n",
      "|    |    └─ModuleList: 3-89                            384\n",
      "|    |    └─ModuleList: 3-90                            384\n",
      "|    └─SeparableConvBlock: 2-6                          --\n",
      "|    |    └─Conv2dStaticSamePadding: 3-91               576\n",
      "|    |    └─Conv2dStaticSamePadding: 3-92               2,340\n",
      "|    └─MemoryEfficientSwish: 2-7                        --\n",
      "├─Classifier: 1-3                                       --\n",
      "|    └─ModuleList: 2-8                                  --\n",
      "|    |    └─SeparableConvBlock: 3-93                    4,736\n",
      "|    |    └─SeparableConvBlock: 3-94                    4,736\n",
      "|    |    └─SeparableConvBlock: 3-95                    4,736\n",
      "|    └─ModuleList: 2-9                                  --\n",
      "|    |    └─ModuleList: 3-96                            384\n",
      "|    |    └─ModuleList: 3-97                            384\n",
      "|    |    └─ModuleList: 3-98                            384\n",
      "|    |    └─ModuleList: 3-99                            384\n",
      "|    |    └─ModuleList: 3-100                           384\n",
      "|    └─SeparableConvBlock: 2-10                         --\n",
      "|    |    └─Conv2dStaticSamePadding: 3-101              576\n",
      "|    |    └─Conv2dStaticSamePadding: 3-102              52,650\n",
      "|    └─MemoryEfficientSwish: 2-11                       --\n",
      "├─Anchors: 1-4                                          --\n",
      "├─EfficientNet: 1-5                                     --\n",
      "|    └─EfficientNet: 2-12                               --\n",
      "|    |    └─Conv2dStaticSamePadding: 3-103              864\n",
      "|    |    └─BatchNorm2d: 3-104                          64\n",
      "|    |    └─ModuleList: 3-105                           18,654,940\n",
      "|    |    └─MemoryEfficientSwish: 3-106                 --\n",
      "================================================================================\n",
      "Total params: 18,940,490\n",
      "Trainable params: 18,940,490\n",
      "Non-trainable params: 0\n",
      "================================================================================\n",
      "================================================================================\n",
      "Layer (type:depth-idx)                                  Param #\n",
      "================================================================================\n",
      "├─Sequential: 1-1                                       --\n",
      "|    └─BiFPN: 2-1                                       --\n",
      "|    |    └─SeparableConvBlock: 3-1                     4,864\n",
      "|    |    └─SeparableConvBlock: 3-2                     4,864\n",
      "|    |    └─SeparableConvBlock: 3-3                     4,864\n",
      "|    |    └─SeparableConvBlock: 3-4                     4,864\n",
      "|    |    └─SeparableConvBlock: 3-5                     4,864\n",
      "|    |    └─SeparableConvBlock: 3-6                     4,864\n",
      "|    |    └─SeparableConvBlock: 3-7                     4,864\n",
      "|    |    └─SeparableConvBlock: 3-8                     4,864\n",
      "|    |    └─Upsample: 3-9                               --\n",
      "|    |    └─Upsample: 3-10                              --\n",
      "|    |    └─Upsample: 3-11                              --\n",
      "|    |    └─Upsample: 3-12                              --\n",
      "|    |    └─MaxPool2dStaticSamePadding: 3-13            --\n",
      "|    |    └─MaxPool2dStaticSamePadding: 3-14            --\n",
      "|    |    └─MaxPool2dStaticSamePadding: 3-15            --\n",
      "|    |    └─MaxPool2dStaticSamePadding: 3-16            --\n",
      "|    |    └─MemoryEfficientSwish: 3-17                  --\n",
      "|    |    └─Sequential: 3-18                            20,672\n",
      "|    |    └─Sequential: 3-19                            7,360\n",
      "|    |    └─Sequential: 3-20                            2,752\n",
      "|    |    └─Sequential: 3-21                            20,672\n",
      "|    |    └─Sequential: 3-22                            --\n",
      "|    |    └─Sequential: 3-23                            7,360\n",
      "|    |    └─Sequential: 3-24                            20,672\n",
      "|    |    └─ReLU: 3-25                                  --\n",
      "|    |    └─ReLU: 3-26                                  --\n",
      "|    |    └─ReLU: 3-27                                  --\n",
      "|    |    └─ReLU: 3-28                                  --\n",
      "|    |    └─ReLU: 3-29                                  --\n",
      "|    |    └─ReLU: 3-30                                  --\n",
      "|    |    └─ReLU: 3-31                                  --\n",
      "|    |    └─ReLU: 3-32                                  --\n",
      "|    └─BiFPN: 2-2                                       --\n",
      "|    |    └─SeparableConvBlock: 3-33                    4,864\n",
      "|    |    └─SeparableConvBlock: 3-34                    4,864\n",
      "|    |    └─SeparableConvBlock: 3-35                    4,864\n",
      "|    |    └─SeparableConvBlock: 3-36                    4,864\n",
      "|    |    └─SeparableConvBlock: 3-37                    4,864\n",
      "|    |    └─SeparableConvBlock: 3-38                    4,864\n",
      "|    |    └─SeparableConvBlock: 3-39                    4,864\n",
      "|    |    └─SeparableConvBlock: 3-40                    4,864\n",
      "|    |    └─Upsample: 3-41                              --\n",
      "|    |    └─Upsample: 3-42                              --\n",
      "|    |    └─Upsample: 3-43                              --\n",
      "|    |    └─Upsample: 3-44                              --\n",
      "|    |    └─MaxPool2dStaticSamePadding: 3-45            --\n",
      "|    |    └─MaxPool2dStaticSamePadding: 3-46            --\n",
      "|    |    └─MaxPool2dStaticSamePadding: 3-47            --\n",
      "|    |    └─MaxPool2dStaticSamePadding: 3-48            --\n",
      "|    |    └─MemoryEfficientSwish: 3-49                  --\n",
      "|    |    └─ReLU: 3-50                                  --\n",
      "|    |    └─ReLU: 3-51                                  --\n",
      "|    |    └─ReLU: 3-52                                  --\n",
      "|    |    └─ReLU: 3-53                                  --\n",
      "|    |    └─ReLU: 3-54                                  --\n",
      "|    |    └─ReLU: 3-55                                  --\n",
      "|    |    └─ReLU: 3-56                                  --\n",
      "|    |    └─ReLU: 3-57                                  --\n",
      "|    └─BiFPN: 2-3                                       --\n",
      "|    |    └─SeparableConvBlock: 3-58                    4,864\n",
      "|    |    └─SeparableConvBlock: 3-59                    4,864\n",
      "|    |    └─SeparableConvBlock: 3-60                    4,864\n",
      "|    |    └─SeparableConvBlock: 3-61                    4,864\n",
      "|    |    └─SeparableConvBlock: 3-62                    4,864\n",
      "|    |    └─SeparableConvBlock: 3-63                    4,864\n",
      "|    |    └─SeparableConvBlock: 3-64                    4,864\n",
      "|    |    └─SeparableConvBlock: 3-65                    4,864\n",
      "|    |    └─Upsample: 3-66                              --\n",
      "|    |    └─Upsample: 3-67                              --\n",
      "|    |    └─Upsample: 3-68                              --\n",
      "|    |    └─Upsample: 3-69                              --\n",
      "|    |    └─MaxPool2dStaticSamePadding: 3-70            --\n",
      "|    |    └─MaxPool2dStaticSamePadding: 3-71            --\n",
      "|    |    └─MaxPool2dStaticSamePadding: 3-72            --\n",
      "|    |    └─MaxPool2dStaticSamePadding: 3-73            --\n",
      "|    |    └─MemoryEfficientSwish: 3-74                  --\n",
      "|    |    └─ReLU: 3-75                                  --\n",
      "|    |    └─ReLU: 3-76                                  --\n",
      "|    |    └─ReLU: 3-77                                  --\n",
      "|    |    └─ReLU: 3-78                                  --\n",
      "|    |    └─ReLU: 3-79                                  --\n",
      "|    |    └─ReLU: 3-80                                  --\n",
      "|    |    └─ReLU: 3-81                                  --\n",
      "|    |    └─ReLU: 3-82                                  --\n",
      "├─Regressor: 1-2                                        --\n",
      "|    └─ModuleList: 2-4                                  --\n",
      "|    |    └─SeparableConvBlock: 3-83                    4,736\n",
      "|    |    └─SeparableConvBlock: 3-84                    4,736\n",
      "|    |    └─SeparableConvBlock: 3-85                    4,736\n",
      "|    └─ModuleList: 2-5                                  --\n",
      "|    |    └─ModuleList: 3-86                            384\n",
      "|    |    └─ModuleList: 3-87                            384\n",
      "|    |    └─ModuleList: 3-88                            384\n",
      "|    |    └─ModuleList: 3-89                            384\n",
      "|    |    └─ModuleList: 3-90                            384\n",
      "|    └─SeparableConvBlock: 2-6                          --\n",
      "|    |    └─Conv2dStaticSamePadding: 3-91               576\n",
      "|    |    └─Conv2dStaticSamePadding: 3-92               2,340\n",
      "|    └─MemoryEfficientSwish: 2-7                        --\n",
      "├─Classifier: 1-3                                       --\n",
      "|    └─ModuleList: 2-8                                  --\n",
      "|    |    └─SeparableConvBlock: 3-93                    4,736\n",
      "|    |    └─SeparableConvBlock: 3-94                    4,736\n",
      "|    |    └─SeparableConvBlock: 3-95                    4,736\n",
      "|    └─ModuleList: 2-9                                  --\n",
      "|    |    └─ModuleList: 3-96                            384\n",
      "|    |    └─ModuleList: 3-97                            384\n",
      "|    |    └─ModuleList: 3-98                            384\n",
      "|    |    └─ModuleList: 3-99                            384\n",
      "|    |    └─ModuleList: 3-100                           384\n",
      "|    └─SeparableConvBlock: 2-10                         --\n",
      "|    |    └─Conv2dStaticSamePadding: 3-101              576\n",
      "|    |    └─Conv2dStaticSamePadding: 3-102              52,650\n",
      "|    └─MemoryEfficientSwish: 2-11                       --\n",
      "├─Anchors: 1-4                                          --\n",
      "├─EfficientNet: 1-5                                     --\n",
      "|    └─EfficientNet: 2-12                               --\n",
      "|    |    └─Conv2dStaticSamePadding: 3-103              864\n",
      "|    |    └─BatchNorm2d: 3-104                          64\n",
      "|    |    └─ModuleList: 3-105                           18,654,940\n",
      "|    |    └─MemoryEfficientSwish: 3-106                 --\n",
      "================================================================================\n",
      "Total params: 18,940,490\n",
      "Trainable params: 18,940,490\n",
      "Non-trainable params: 0\n",
      "================================================================================\n",
      "\n",
      "\n"
     ]
    },
    {
     "name": "stderr",
     "output_type": "stream",
     "text": [
      "Step: 35. Epoch: 0/1. Iteration: 36/7392. Cls loss: 0.44745. Reg loss: 0.10457. Total loss: 0.55202:   0%|          | 36/7392 [00:23<1:21:35,  1.50it/s]\n"
     ]
    },
    {
     "name": "stdout",
     "output_type": "stream",
     "text": [
      "\n",
      "\n",
      "Training complete\n"
     ]
    }
   ],
   "source": [
    "gtf.train(num_epochs=2, val_interval=1, save_interval=1)"
   ]
  },
  {
   "cell_type": "code",
   "execution_count": 15,
   "id": "9062f68e",
   "metadata": {},
   "outputs": [],
   "source": [
    "#gtf.Model(model_name=\"efficientnet-b0\");"
   ]
  },
  {
   "cell_type": "code",
   "execution_count": 16,
   "id": "4c57287e",
   "metadata": {},
   "outputs": [],
   "source": [
    "#!wget https://github.com/zylo117/Yet-Another-Efficient-Pytorch/releases/download/1.0/efficientdet-d0.pth"
   ]
  },
  {
   "cell_type": "code",
   "execution_count": 10,
   "id": "98fbadfe",
   "metadata": {},
   "outputs": [],
   "source": [
    "from torchsummary import summary"
   ]
  },
  {
   "cell_type": "code",
   "execution_count": 11,
   "id": "0d2b57cc",
   "metadata": {},
   "outputs": [],
   "source": [
    "%load_ext tensorboard\n"
   ]
  },
  {
   "cell_type": "code",
   "execution_count": 12,
   "id": "f1498857",
   "metadata": {},
   "outputs": [
    {
     "data": {
      "text/html": [
       "\n",
       "      <iframe id=\"tensorboard-frame-5aa5be482f554c89\" width=\"100%\" height=\"800\" frameborder=\"0\">\n",
       "      </iframe>\n",
       "      <script>\n",
       "        (function() {\n",
       "          const frame = document.getElementById(\"tensorboard-frame-5aa5be482f554c89\");\n",
       "          const url = new URL(\"/\", window.location);\n",
       "          const port = 8006;\n",
       "          if (port) {\n",
       "            url.port = port;\n",
       "          }\n",
       "          frame.src = url;\n",
       "        })();\n",
       "      </script>\n",
       "    "
      ],
      "text/plain": [
       "<IPython.core.display.HTML object>"
      ]
     },
     "metadata": {},
     "output_type": "display_data"
    }
   ],
   "source": [
    "tensorboard --logdir=logs  --port=8006\n"
   ]
  },
  {
   "cell_type": "code",
   "execution_count": 13,
   "id": "891c38cb",
   "metadata": {},
   "outputs": [
    {
     "name": "stdout",
     "output_type": "stream",
     "text": [
      "running coco-style evaluation on project /coco, weights /home/amritasingh/Amrita_Project/3X3_5x5/trained_weights/custom/efficientdet-d0_trained.pth...\n",
      "90\n",
      "loading annotations into memory...\n",
      "Done (t=0.39s)\n",
      "creating index...\n",
      "index created!\n",
      "100%|███████████████████████████████████████| 5000/5000 [16:23<00:00,  5.09it/s]\n",
      "Loading and preparing results...\n",
      "DONE (t=2.49s)\n",
      "creating index...\n",
      "index created!\n",
      "BBox\n",
      "Running per image evaluation...\n",
      "Evaluate annotation type *bbox*\n",
      "DONE (t=25.67s).\n",
      "Accumulating evaluation results...\n",
      "DONE (t=4.48s).\n",
      " Average Precision  (AP) @[ IoU=0.50:0.95 | area=   all | maxDets=100 ] = 0.298\n",
      " Average Precision  (AP) @[ IoU=0.50      | area=   all | maxDets=100 ] = 0.470\n",
      " Average Precision  (AP) @[ IoU=0.75      | area=   all | maxDets=100 ] = 0.313\n",
      " Average Precision  (AP) @[ IoU=0.50:0.95 | area= small | maxDets=100 ] = 0.110\n",
      " Average Precision  (AP) @[ IoU=0.50:0.95 | area=medium | maxDets=100 ] = 0.348\n",
      " Average Precision  (AP) @[ IoU=0.50:0.95 | area= large | maxDets=100 ] = 0.469\n",
      " Average Recall     (AR) @[ IoU=0.50:0.95 | area=   all | maxDets=  1 ] = 0.254\n",
      " Average Recall     (AR) @[ IoU=0.50:0.95 | area=   all | maxDets= 10 ] = 0.387\n",
      " Average Recall     (AR) @[ IoU=0.50:0.95 | area=   all | maxDets=100 ] = 0.417\n",
      " Average Recall     (AR) @[ IoU=0.50:0.95 | area= small | maxDets=100 ] = 0.168\n",
      " Average Recall     (AR) @[ IoU=0.50:0.95 | area=medium | maxDets=100 ] = 0.484\n",
      " Average Recall     (AR) @[ IoU=0.50:0.95 | area= large | maxDets=100 ] = 0.612\n"
     ]
    }
   ],
   "source": [
    "!python /home/amritasingh/Amrita_Project/3X3_5x5/Monk_Object_Detection/10_pytorch_efficientdet/lib/coco_eval.py -p /coco"
   ]
  },
  {
   "cell_type": "code",
   "execution_count": 16,
   "id": "6c178093",
   "metadata": {},
   "outputs": [
    {
     "name": "stdout",
     "output_type": "stream",
     "text": [
      "running coco-style evaluation on project /coco, weights /home/amritasingh/Amrita_Project/3X3_5x5/trained_weights/custom/efficientdet-d0_trained.pth...\n",
      "90\n",
      "loading annotations into memory...\n",
      "Done (t=0.36s)\n",
      "creating index...\n",
      "index created!\n",
      "100%|███████████████████████████████████████| 5000/5000 [14:46<00:00,  5.64it/s]\n",
      "Loading and preparing results...\n",
      "DONE (t=3.45s)\n",
      "creating index...\n",
      "index created!\n",
      "BBox\n",
      "Running per image evaluation...\n",
      "Evaluate annotation type *bbox*\n",
      "DONE (t=46.41s).\n",
      "Accumulating evaluation results...\n",
      "DONE (t=5.10s).\n",
      " Average Precision  (AP) @[ IoU=0.50:0.95 | area=   all | maxDets=100 ] = 0.322\n",
      " Average Precision  (AP) @[ IoU=0.50      | area=   all | maxDets=100 ] = 0.500\n",
      " Average Precision  (AP) @[ IoU=0.75      | area=   all | maxDets=100 ] = 0.341\n",
      " Average Precision  (AP) @[ IoU=0.50:0.95 | area= small | maxDets=100 ] = 0.116\n",
      " Average Precision  (AP) @[ IoU=0.50:0.95 | area=medium | maxDets=100 ] = 0.371\n",
      " Average Precision  (AP) @[ IoU=0.50:0.95 | area= large | maxDets=100 ] = 0.511\n",
      " Average Recall     (AR) @[ IoU=0.50:0.95 | area=   all | maxDets=  1 ] = 0.274\n",
      " Average Recall     (AR) @[ IoU=0.50:0.95 | area=   all | maxDets= 10 ] = 0.414\n",
      " Average Recall     (AR) @[ IoU=0.50:0.95 | area=   all | maxDets=100 ] = 0.447\n",
      " Average Recall     (AR) @[ IoU=0.50:0.95 | area= small | maxDets=100 ] = 0.184\n",
      " Average Recall     (AR) @[ IoU=0.50:0.95 | area=medium | maxDets=100 ] = 0.524\n",
      " Average Recall     (AR) @[ IoU=0.50:0.95 | area= large | maxDets=100 ] = 0.655\n"
     ]
    }
   ],
   "source": [
    "!python /home/amritasingh/Amrita_Project/3X3_5x5/Monk_Object_Detection/10_pytorch_efficientdet/lib/coco_eval.py -p /coco"
   ]
  },
  {
   "cell_type": "code",
   "execution_count": 17,
   "id": "d12e0df1",
   "metadata": {},
   "outputs": [],
   "source": [
    "import mAP_evaluation"
   ]
  },
  {
   "cell_type": "code",
   "execution_count": 33,
   "id": "5f890631",
   "metadata": {},
   "outputs": [],
   "source": [
    "from mAP_evaluation import evaluate_coco           "
   ]
  },
  {
   "cell_type": "code",
   "execution_count": 25,
   "id": "9ad7179b",
   "metadata": {},
   "outputs": [],
   "source": [
    "from efficientdet.dataset import CocoDataset, Resizer, Normalizer"
   ]
  },
  {
   "cell_type": "code",
   "execution_count": 27,
   "id": "85f5bba7",
   "metadata": {},
   "outputs": [],
   "source": [
    "from torchvision import transforms"
   ]
  },
  {
   "cell_type": "code",
   "execution_count": 31,
   "id": "9bd4b598",
   "metadata": {},
   "outputs": [],
   "source": [
    "from pycocotools.cocoeval import COCOeval\n"
   ]
  },
  {
   "cell_type": "code",
   "execution_count": 39,
   "id": "3e7b3016",
   "metadata": {},
   "outputs": [
    {
     "name": "stdout",
     "output_type": "stream",
     "text": [
      "loading annotations into memory...\n",
      "Done (t=0.25s)\n",
      "creating index...\n",
      "index created!\n"
     ]
    },
    {
     "ename": "AttributeError",
     "evalue": "'collections.OrderedDict' object has no attribute 'eval'",
     "output_type": "error",
     "traceback": [
      "\u001b[0;31m---------------------------------------------------------------------------\u001b[0m",
      "\u001b[0;31mAttributeError\u001b[0m                            Traceback (most recent call last)",
      "\u001b[0;32m/tmp/ipykernel_1817664/821925189.py\u001b[0m in \u001b[0;36m<module>\u001b[0;34m\u001b[0m\n\u001b[1;32m      3\u001b[0m dataset_val = CocoDataset(root_dir = \"\", coco_dir=\"/home/amritasingh/Amrita_Project/3X3_5x5/coco/\", set_dir='val2017',img_dir=\"\",\n\u001b[1;32m      4\u001b[0m                               transform=transforms.Compose([Normalizer(), Resizer()]))\n\u001b[0;32m----> 5\u001b[0;31m \u001b[0mevaluate_coco\u001b[0m\u001b[0;34m(\u001b[0m\u001b[0mdataset_val\u001b[0m\u001b[0;34m,\u001b[0m \u001b[0mefficientdet\u001b[0m\u001b[0;34m)\u001b[0m\u001b[0;34m\u001b[0m\u001b[0;34m\u001b[0m\u001b[0m\n\u001b[0m",
      "\u001b[0;32m~/Amrita_Project/3X3_5x5/Monk_Object_Detection/10_pytorch_efficientdet/lib/mAP_evaluation.py\u001b[0m in \u001b[0;36mevaluate_coco\u001b[0;34m(dataset, model, threshold)\u001b[0m\n\u001b[1;32m      7\u001b[0m \u001b[0;34m\u001b[0m\u001b[0m\n\u001b[1;32m      8\u001b[0m \u001b[0;32mdef\u001b[0m \u001b[0mevaluate_coco\u001b[0m\u001b[0;34m(\u001b[0m\u001b[0mdataset\u001b[0m\u001b[0;34m,\u001b[0m \u001b[0mmodel\u001b[0m\u001b[0;34m,\u001b[0m \u001b[0mthreshold\u001b[0m\u001b[0;34m=\u001b[0m\u001b[0;36m0.05\u001b[0m\u001b[0;34m)\u001b[0m\u001b[0;34m:\u001b[0m\u001b[0;34m\u001b[0m\u001b[0;34m\u001b[0m\u001b[0m\n\u001b[0;32m----> 9\u001b[0;31m     \u001b[0mmodel\u001b[0m\u001b[0;34m.\u001b[0m\u001b[0meval\u001b[0m\u001b[0;34m(\u001b[0m\u001b[0;34m)\u001b[0m\u001b[0;34m\u001b[0m\u001b[0;34m\u001b[0m\u001b[0m\n\u001b[0m\u001b[1;32m     10\u001b[0m     \u001b[0;32mwith\u001b[0m \u001b[0mtorch\u001b[0m\u001b[0;34m.\u001b[0m\u001b[0mno_grad\u001b[0m\u001b[0;34m(\u001b[0m\u001b[0;34m)\u001b[0m\u001b[0;34m:\u001b[0m\u001b[0;34m\u001b[0m\u001b[0;34m\u001b[0m\u001b[0m\n\u001b[1;32m     11\u001b[0m         \u001b[0mresults\u001b[0m \u001b[0;34m=\u001b[0m \u001b[0;34m[\u001b[0m\u001b[0;34m]\u001b[0m\u001b[0;34m\u001b[0m\u001b[0;34m\u001b[0m\u001b[0m\n",
      "\u001b[0;31mAttributeError\u001b[0m: 'collections.OrderedDict' object has no attribute 'eval'"
     ]
    }
   ],
   "source": [
    "efficientdet = torch.load(\"/home/amritasingh/Amrita_Project/3X3_5x5/trained_weights/custom/efficientdet-d0_trained.pth\")\n",
    "efficientdet\n",
    "dataset_val = CocoDataset(root_dir = \"\", coco_dir=\"/home/amritasingh/Amrita_Project/3X3_5x5/coco/\", set_dir='val2017',img_dir=\"\",\n",
    "                              transform=transforms.Compose([Normalizer(), Resizer()]))\n",
    "evaluate_coco(dataset_val, efficientdet)\n"
   ]
  },
  {
   "cell_type": "code",
   "execution_count": 1,
   "id": "f5862eb5",
   "metadata": {},
   "outputs": [
    {
     "data": {
      "image/png": "[encoded data removed]",
      "text/plain": [
       "<Figure size 540x252 with 1 Axes>"
      ]
     },
     "metadata": {
      "needs_background": "light"
     },
     "output_type": "display_data"
    }
   ],
   "source": [
    "import matplotlib.pyplot as plt\n",
    "import numpy as np\n",
    "\n",
    "plt.rcParams[\"figure.figsize\"] = [7.5, 3.50]\n",
    "plt.rcParams[\"figure.autolayout\"] = True\n",
    "plt.rcParams[\"axes.edgecolor\"] = \"black\"\n",
    "plt.rcParams[\"axes.linewidth\"] = 2.50\n",
    "\n",
    "N = 10\n",
    "x = np.random.randint(low=0, high=N, size=N)\n",
    "y = np.random.randint(low=0, high=N, size=N)\n",
    "\n",
    "plt.plot(x, y, color='red')\n",
    "\n",
    "plt.show()"
   ]
  },
  {
   "cell_type": "code",
   "execution_count": 4,
   "id": "67fd7781",
   "metadata": {},
   "outputs": [],
   "source": [
    "R=[0.0115, 0.0115, 0.0115, 0.0115, 0.0230, 0.0345, 0.0460, 0.0575, 0.0690,\n",
    "        0.0805, 0.0920, 0.1034, 0.1149, 0.1149, 0.1264, 0.1264, 0.1379, 0.1494,\n",
    "        0.1609, 0.1724, 0.1839, 0.1839, 0.1954, 0.2069, 0.2069, 0.2184, 0.2184,\n",
    "        0.2299, 0.2299, 0.2299, 0.2299, 0.2414, 0.2414, 0.2414, 0.2529, 0.2529,\n",
    "        0.2529, 0.2644, 0.2644, 0.2759, 0.2874, 0.2989, 0.3103, 0.3218, 0.3333,\n",
    "        0.3448, 0.3563, 0.3563, 0.3563, 0.3678, 0.3793, 0.3908, 0.4023, 0.4023,\n",
    "        0.4138, 0.4253, 0.4368, 0.4368, 0.4368, 0.4483, 0.4598, 0.4598, 0.4713,\n",
    "        0.4828, 0.4943, 0.5057, 0.5172, 0.5172]\n",
    "P=[1.0000, 1.0000, 0.5000, 0.3333, 0.2500, 0.4000, 0.5000, 0.5714, 0.6250,\n",
    "        0.6667, 0.7000, 0.7273, 0.7500, 0.7692, 0.7143, 0.7333, 0.6875, 0.7059,\n",
    "        0.7222, 0.7368, 0.7500, 0.7619, 0.7273, 0.7391, 0.7500, 0.7200, 0.7308,\n",
    "        0.7037, 0.7143, 0.6897, 0.6667, 0.6452, 0.6562, 0.6364, 0.6176, 0.6286,\n",
    "        0.6111, 0.5946, 0.6053, 0.5897, 0.6000, 0.6098, 0.6190, 0.6279, 0.6364,\n",
    "        0.6444, 0.6522, 0.6596, 0.6458, 0.6327, 0.6400, 0.6471, 0.6538, 0.6604,\n",
    "        0.6481, 0.6545, 0.6607, 0.6667, 0.6552, 0.6441, 0.6500, 0.6557, 0.6452,\n",
    "        0.6508, 0.6562, 0.6615, 0.6667, 0.6716]"
   ]
  },
  {
   "cell_type": "code",
   "execution_count": 14,
   "id": "e2f73eb2",
   "metadata": {},
   "outputs": [
    {
     "data": {
      "image/png": "[encoded data removed]",
      "text/plain": [
       "<Figure size 540x252 with 1 Axes>"
      ]
     },
     "metadata": {
      "needs_background": "light"
     },
     "output_type": "display_data"
    }
   ],
   "source": [
    "import matplotlib.pyplot as plt\n",
    "import numpy as np\n",
    "from pylab import *\n",
    "\n",
    "\n",
    "#plt.rcParams[\"figure.figsize\"] = [7.5, 3.50]\n",
    "#plt.rcParams[\"figure.autolayout\"] = True\n",
    "#plt.rcParams[\"axes.edgecolor\"] = \"black\"\n",
    "#plt.rcParams[\"axes.linewidth\"] = 2.50\n",
    "#plot([0, 1], [0, 1])\n",
    "rc('axes', linewidth=2)\n",
    "fontsize = 14\n",
    "ax = gca()\n",
    "\n",
    "for tick in ax.xaxis.get_major_ticks():\n",
    "    tick.label1.set_fontsize(fontsize)\n",
    "    tick.label1.set_fontweight('bold')\n",
    "for tick in ax.yaxis.get_major_ticks():\n",
    "    tick.label1.set_fontsize(fontsize)\n",
    "    tick.label1.set_fontweight('bold')\n",
    "plt.title(\"AP curve modified model \",fontsize=16, fontweight='bold') \n",
    "\n",
    "plt.xlabel(\"Recall\", fontsize=16, fontweight='bold') \n",
    "plt.ylabel(\"Precision\", fontsize=16, fontweight='bold')\n",
    "#N = 10\n",
    "#x = np.random.randint(low=0, high=N, size=N)\n",
    "#y = np.random.randint(low=0, high=N, size=N)\n",
    "\n",
    "plt.plot(R, P, color='red')\n",
    "savefig('thick_axes.png')\n",
    "\n",
    "plt.show()"
   ]
  },
  {
   "cell_type": "code",
   "execution_count": 18,
   "id": "20dac862",
   "metadata": {},
   "outputs": [
    {
     "name": "stdout",
     "output_type": "stream",
     "text": [
      "/bin/bash: line 0: kill: (2056396) - No such process\r\n"
     ]
    }
   ],
   "source": [
    "!kill 2056396"
   ]
  },
  {
   "cell_type": "code",
   "execution_count": 17,
   "id": "257f05ab",
   "metadata": {},
   "outputs": [
    {
     "ename": "SyntaxError",
     "evalue": "invalid syntax (1558745809.py, line 1)",
     "output_type": "error",
     "traceback": [
      "\u001b[0;36m  File \u001b[0;32m\"/tmp/ipykernel_3207923/1558745809.py\"\u001b[0;36m, line \u001b[0;32m1\u001b[0m\n\u001b[0;31m    kill 2056396\u001b[0m\n\u001b[0m               ^\u001b[0m\n\u001b[0;31mSyntaxError\u001b[0m\u001b[0;31m:\u001b[0m invalid syntax\n"
     ]
    }
   ],
   "source": [
    "kill 2056396"
   ]
  },
  {
   "cell_type": "code",
   "execution_count": 20,
   "id": "30527ba0",
   "metadata": {},
   "outputs": [
    {
     "name": "stdout",
     "output_type": "stream",
     "text": [
      "2056396: no process found\r\n"
     ]
    }
   ],
   "source": [
    "!killall 2056396"
   ]
  },
  {
   "cell_type": "code",
   "execution_count": null,
   "id": "82dcc65a",
   "metadata": {},
   "outputs": [],
   "source": []
  }
 ],
 "metadata": {
  "kernelspec": {
   "display_name": "Python 3 (ipykernel)",
   "language": "python",
   "name": "python3"
  },
  "language_info": {
   "codemirror_mode": {
    "name": "ipython",
    "version": 3
   },
   "file_extension": ".py",
   "mimetype": "text/x-python",
   "name": "python",
   "nbconvert_exporter": "python",
   "pygments_lexer": "ipython3",
   "version": "3.9.16"
  }
 },
 "nbformat": 4,
 "nbformat_minor": 5
}
